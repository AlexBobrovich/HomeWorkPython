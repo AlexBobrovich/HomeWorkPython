{
 "cells": [
  {
   "cell_type": "code",
   "execution_count": null,
   "id": "c40ab906",
   "metadata": {},
   "outputs": [],
   "source": [
    "#Задание 1\n",
    "#Напишите функцию, которая возвращает название валюты (поле ‘Name’) с максимальным значением курса с помощью сервиса\n",
    "#www.cbr-xml-daily.ru...ly_json.js"
   ]
  },
  {
   "cell_type": "code",
   "execution_count": 1,
   "id": "655e5f8e",
   "metadata": {},
   "outputs": [],
   "source": [
    "import requests"
   ]
  },
  {
   "cell_type": "code",
   "execution_count": 2,
   "id": "2d372f13",
   "metadata": {},
   "outputs": [
    {
     "name": "stdout",
     "output_type": "stream",
     "text": [
      "Brl  19.5536\n",
      "Eur  102.6714\n",
      "Usd  93.7125\n",
      "Maximum =  EUR\n"
     ]
    }
   ],
   "source": [
    "class Rate:\n",
    "\n",
    "    def __init__(self, format_='value'):\n",
    "        self.format = format_\n",
    "    \n",
    "    def exchange_rates(self):\n",
    "        self.r = requests.get('https://www.cbr-xml-daily.ru/daily_json.js')\n",
    "        return self.r.json()['Valute']\n",
    "    \n",
    "    def make_format(self, currency):\n",
    "        response = self.exchange_rates()\n",
    "        \n",
    "        if currency in response:\n",
    "            if self.format == 'full':\n",
    "                return response[currency]\n",
    "            \n",
    "            if self.format == 'value':\n",
    "                return response[currency]['Value']\n",
    "        \n",
    "        return 'Error'\n",
    "    \n",
    "    def eur(self):\n",
    "        return self.make_format('EUR')\n",
    "    def usd(self):\n",
    "        return self.make_format('USD')\n",
    "    def brl(self):\n",
    "        return self.make_format('BRL')\n",
    "    def max(self):\n",
    "        \n",
    "        x = self.brl()# 14.1581\n",
    "        y = self.eur()# 88.1397\n",
    "        z = self.usd()\n",
    "        if max(x,y,z)==x:\n",
    "            return \"Brl\"\n",
    "        elif max(x,y,z)==y:\n",
    "            return \"EUR\"\n",
    "        else:\n",
    "            return \"USD\"\n",
    "r = Rate(format_='value')\n",
    "\n",
    "x = r.brl()# 14.1581\n",
    "y = r.eur()# 88.1397\n",
    "z = r.usd()\n",
    "Max = r.max()\n",
    "print(\"Brl \",x)  \n",
    "print(\"Eur \",y)\n",
    "print(\"Usd \",z)\n",
    "print(\"Maximum = \",Max)"
   ]
  },
  {
   "cell_type": "code",
   "execution_count": null,
   "id": "ae4848fe",
   "metadata": {},
   "outputs": [],
   "source": [
    "#Задание 2\n",
    "#Добавьте в класс Rate параметр diff (со значениями True или False), \n",
    "#который в случае значения True в методах курсов валют (eur, usd итд) \n",
    "#будет возвращать не курс валюты, а изменение по сравнению в прошлым значением. \n",
    "#Считайте, self.diff будет принимать значение True только при возврате значения курса. \n",
    "#При отображении всей информации о валюте он не используется."
   ]
  },
  {
   "cell_type": "code",
   "execution_count": 3,
   "id": "e062e6b7",
   "metadata": {},
   "outputs": [
    {
     "name": "stdout",
     "output_type": "stream",
     "text": [
      "Евро\n",
      "Изменение по сравнению c прошлым значением -2.595\n"
     ]
    }
   ],
   "source": [
    "class Rate:\n",
    "    def __init__(self, format='value',diff=False):\n",
    "        self.format = format\n",
    "        self.diff=diff\n",
    "\n",
    "\n",
    "    def exchange_rates(self):\n",
    "        r = requests.get('https://www.cbr-xml-daily.ru/daily_json.js')\n",
    "        return r.json()['Valute']\n",
    "\n",
    "    def make_format(self, currency):\n",
    "        response = self.exchange_rates()\n",
    "\n",
    "        if currency in response:\n",
    "            if self.format == 'full':\n",
    "                return response[currency]\n",
    "\n",
    "            if self.format == 'value':\n",
    "                if not self.diff:\n",
    "                    return response[currency]['Value']\n",
    "                else:\n",
    "                    return response[currency]['Value']-response[currency]['Previous']\n",
    "\n",
    "            if self.format=='currency_name':\n",
    "                return response[currency]['Name']\n",
    "\n",
    "        return 'Error'\n",
    "\n",
    "    def eur(self):\n",
    "        \"\"\"Возвращает курс евро на сегодня в формате self.format если diff=False иначе именение\"\"\"\n",
    "        return self.make_format('EUR')\n",
    "\n",
    "    def usd(self):\n",
    "        \"\"\"Возвращает курс доллара на сегодня в формате self.format\"\"\"\n",
    "        return self.make_format('USD')\n",
    "\n",
    "\n",
    "print (Rate(format='currency_name').make_format('EUR'))\n",
    "print (\"Изменение по сравнению c прошлым значением {:.3f}\".format(Rate(diff=True).eur()))\n",
    "\n"
   ]
  },
  {
   "cell_type": "code",
   "execution_count": null,
   "id": "99809829",
   "metadata": {},
   "outputs": [],
   "source": [
    "#Задание 3\n",
    "#Напишите класс Designer, который учитывает количество международных премий. \n",
    "#Подсказки в коде занятия в разделе “Домашнее задание задача 3”."
   ]
  },
  {
   "cell_type": "code",
   "execution_count": 5,
   "id": "b28462d3",
   "metadata": {},
   "outputs": [],
   "source": [
    "class Employee:\n",
    "    def __init__(self, name, seniority):\n",
    "        self.name = name\n",
    "        self.seniority = seniority\n",
    "        \n",
    "    @property\n",
    "    def grade(self):\n",
    "        return floor(self.seniority / 2)\n",
    "    \n",
    "    def publish_grade(self):\n",
    "        \"\"\"Публикация результатов аккредитации сотрудников\"\"\"\n",
    "        print(self.name, self.grade)"
   ]
  },
  {
   "cell_type": "code",
   "execution_count": 6,
   "id": "3d262478",
   "metadata": {},
   "outputs": [
    {
     "name": "stdout",
     "output_type": "stream",
     "text": [
      "Елена 1\n",
      "Елена 1\n",
      "Елена 1\n",
      "Елена 1\n",
      "Елена 1\n",
      "Елена 1\n",
      "Елена 1\n",
      "Елена 2\n",
      "Елена 2\n",
      "Елена 2\n",
      "Елена 2\n",
      "Елена 2\n",
      "Елена 2\n",
      "Елена 2\n",
      "Елена 3\n",
      "Елена 3\n",
      "Елена 3\n",
      "Елена 3\n",
      "Елена 3\n",
      "Елена 3\n",
      "New prize!\n",
      "New prize!\n",
      "New prize!\n",
      "New prize!\n",
      "New prize!\n",
      "Елена 5\n",
      "Елена 5\n",
      "Елена 5\n",
      "Елена 5\n",
      "Елена 5\n",
      "Елена 6\n",
      "Елена 6\n",
      "Елена 6\n",
      "Елена 6\n",
      "Елена 6\n",
      "Елена 6\n",
      "Елена 6\n",
      "Елена 7\n",
      "Елена 7\n",
      "Елена 7\n",
      "Елена 7\n",
      "Елена 7\n",
      "Елена 7\n",
      "Елена 7\n",
      "Елена 8\n"
     ]
    }
   ],
   "source": [
    "from math import floor\n",
    "\n",
    "class Designer(Employee):\n",
    "    def __init__(self, name, seniority, inter_prize=2):\n",
    "        super().__init__(name, seniority)\n",
    "        self.inter_prize = inter_prize;\n",
    "\n",
    "    @property\n",
    "    def grade(self):\n",
    "        return floor((self.inter_prize * 2 + self.seniority) / 7)\n",
    "    \n",
    "    def give_a_prize(self):\n",
    "        print('New prize!')\n",
    "        self.inter_prize += 1\n",
    "        \n",
    "    def check_if_it_is_time_for_upgrade(self):\n",
    "        self.seniority += 1\n",
    "\n",
    "        return self.publish_grade()\n",
    "        \n",
    "elena = Designer(\n",
    "    name='Елена',\n",
    "    seniority=2\n",
    ");\n",
    "\n",
    "for i in range(20):\n",
    "    elena.check_if_it_is_time_for_upgrade()\n",
    "    \n",
    "for i in range(5):\n",
    "    elena.give_a_prize()\n",
    "\n",
    "for i in range(20):\n",
    "    elena.check_if_it_is_time_for_upgrade()"
   ]
  },
  {
   "cell_type": "code",
   "execution_count": null,
   "id": "293899db",
   "metadata": {},
   "outputs": [],
   "source": []
  },
  {
   "cell_type": "code",
   "execution_count": null,
   "id": "8f44f3d5",
   "metadata": {},
   "outputs": [],
   "source": []
  }
 ],
 "metadata": {
  "kernelspec": {
   "display_name": "Python 3 (ipykernel)",
   "language": "python",
   "name": "python3"
  },
  "language_info": {
   "codemirror_mode": {
    "name": "ipython",
    "version": 3
   },
   "file_extension": ".py",
   "mimetype": "text/x-python",
   "name": "python",
   "nbconvert_exporter": "python",
   "pygments_lexer": "ipython3",
   "version": "3.9.7"
  }
 },
 "nbformat": 4,
 "nbformat_minor": 5
}
