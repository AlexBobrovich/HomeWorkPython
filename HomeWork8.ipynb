{
 "cells": [
  {
   "cell_type": "code",
   "execution_count": null,
   "id": "d8c32d8d",
   "metadata": {},
   "outputs": [],
   "source": [
    "#Задание 1\n",
    "#Напишите функцию, которая принимает на вход строку и проверяет \n",
    "#является ли она валидным транспортным номером (1 буква, 3 цифры, 2 буквы, 2-3 цифры). \n",
    "#Обратите внимание, что не все буквы кириллического алфавита используются в транспортных номерах."
   ]
  },
  {
   "cell_type": "code",
   "execution_count": null,
   "id": "72f356fd",
   "metadata": {},
   "outputs": [],
   "source": [
    "import re\n",
    "\n",
    "\n",
    "plate = 'А222BС96'\n",
    "\n",
    "def check_plate_auto(plate):\n",
    "    plate_auto = r'([АВЕКМНОРСТУХавекмнорстух]\\d{3}[АВЕКМНОРСТУХавекмнорстух]{2})\\s(\\d{2,3})(RUS|rus)'\n",
    "    return re.findall(plate_auto, plate)\n",
    "print(check_plate_auto(plate))\n",
    "\n"
   ]
  },
  {
   "cell_type": "code",
   "execution_count": null,
   "id": "b86376ef",
   "metadata": {},
   "outputs": [],
   "source": [
    "#Задание 2\n",
    "#Напишите функцию, которая будет удалять все последовательные повторы слов из \n",
    "#заданной строки при помощи регулярных выражений."
   ]
  },
  {
   "cell_type": "code",
   "execution_count": null,
   "id": "f3986d34",
   "metadata": {},
   "outputs": [],
   "source": [
    "import re\n",
    "\n",
    "string = 'Напишите функцию функцию, которая будет удалять все все все все все последовательные повторы слов из заданной строки'\n",
    "\n",
    "def remove_duplicate_words(string):\n",
    "    duplicates_pattern = r'\\b(\\w+)(?:\\s+\\1\\b)+'\n",
    "    replace_pattern = r'\\1'\n",
    "    return re.sub(duplicates_pattern, replace_pattern, string)\n",
    "\n",
    "print(remove_duplicate_words(string))"
   ]
  },
  {
   "cell_type": "code",
   "execution_count": null,
   "id": "c73a1a1b",
   "metadata": {},
   "outputs": [],
   "source": [
    "#Задание 3\n",
    "#Напишите функцию, которая будет принимать на вход список email-адресов \n",
    "#и выводить их распределение по доменным зонам."
   ]
  },
  {
   "cell_type": "code",
   "execution_count": null,
   "id": "50d54093",
   "metadata": {},
   "outputs": [],
   "source": [
    "import re\n",
    "\n",
    "emails = [‘test@gmail.com, xyz@test.in, test@ya.ru, xyz@mail.ru, xyz@ya.ru’, xyz@gmail.com]\n",
    "\n",
    "def is_email(string):\n",
    "    pattern = r'[a-zA-Z0-9_.+-]+@[a-zA-Z0-9-]+\\.[a-zA-Z0-9-.]+'\n",
    "    return re.findall(pattern, string)\n",
    "\n",
    "print(is_email(emails))"
   ]
  }
 ],
 "metadata": {
  "kernelspec": {
   "display_name": "Python 3 (ipykernel)",
   "language": "python",
   "name": "python3"
  },
  "language_info": {
   "codemirror_mode": {
    "name": "ipython",
    "version": 3
   },
   "file_extension": ".py",
   "mimetype": "text/x-python",
   "name": "python",
   "nbconvert_exporter": "python",
   "pygments_lexer": "ipython3",
   "version": "3.9.7"
  }
 },
 "nbformat": 4,
 "nbformat_minor": 5
}
