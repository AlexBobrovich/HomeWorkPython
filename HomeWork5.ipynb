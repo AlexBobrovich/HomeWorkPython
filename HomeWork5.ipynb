{
 "cells": [
  {
   "cell_type": "code",
   "execution_count": 7,
   "id": "f1fa76bc",
   "metadata": {},
   "outputs": [
    {
     "ename": "SyntaxError",
     "evalue": "invalid syntax (Temp/ipykernel_18056/1434012925.py, line 3)",
     "output_type": "error",
     "traceback": [
      "\u001b[1;36m  File \u001b[1;32m\"C:\\Users\\abobr\\AppData\\Local\\Temp/ipykernel_18056/1434012925.py\"\u001b[1;36m, line \u001b[1;32m3\u001b[0m\n\u001b[1;33m    open('funnel.csv', 'w') as visit_write:\u001b[0m\n\u001b[1;37m                            ^\u001b[0m\n\u001b[1;31mSyntaxError\u001b[0m\u001b[1;31m:\u001b[0m invalid syntax\n"
     ]
    }
   ],
   "source": [
    "i = 0\n",
    "with open('visit_log.csv', 'r') as visit:\n",
    "    open('funnel.csv', 'w') as visit_write:\n",
    "    for visit_line in visit:\n",
    "      visit_list = visit_line.strip().split(',') \n",
    "      if visit_list[0] in purchases_new.keys():\n",
    "        visit_list.append(purchases_new[visit_list[0]])\n",
    "        visit_write.write(str(visit_list)+'\\n')\n",
    "        print(visit_list)\n",
    "        i += 1\n",
    "        if i > 5\n",
    "          break"
   ]
  }
 ],
 "metadata": {
  "kernelspec": {
   "display_name": "Python 3 (ipykernel)",
   "language": "python",
   "name": "python3"
  },
  "language_info": {
   "codemirror_mode": {
    "name": "ipython",
    "version": 3
   },
   "file_extension": ".py",
   "mimetype": "text/x-python",
   "name": "python",
   "nbconvert_exporter": "python",
   "pygments_lexer": "ipython3",
   "version": "3.9.7"
  }
 },
 "nbformat": 4,
 "nbformat_minor": 5
}
