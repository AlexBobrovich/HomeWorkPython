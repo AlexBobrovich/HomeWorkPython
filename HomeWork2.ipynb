{
 "cells": [
  {
   "cell_type": "code",
   "execution_count": 4,
   "id": "38136f1f",
   "metadata": {},
   "outputs": [],
   "source": [
    "#Задание 1\n",
    "#Дана переменная, в которой хранится слово из латинских букв. Напишите код, который выводит на экран:\n",
    "\n",
    "#    среднюю букву, если число букв в слове нечетное;\n",
    "#    две средних буквы, если число букв четное.\n"
   ]
  },
  {
   "cell_type": "code",
   "execution_count": 136,
   "id": "ff03fc1e",
   "metadata": {},
   "outputs": [
    {
     "name": "stdout",
     "output_type": "stream",
     "text": [
      "st\n"
     ]
    }
   ],
   "source": [
    "word = 'testiy'\n",
    "len_word_sr0 = int(len(word)/2-1)\n",
    "len_word_sr = int(len(word)/2)\n",
    "len_word_sr1 = int(len(word)/2+1)\n",
    "\n",
    "if len(word) % 2 == 0: print(word[len_word_sr0:len_word_sr1])\n",
    "else:print(word[len_word_sr:len_word_sr1])"
   ]
  },
  {
   "cell_type": "code",
   "execution_count": null,
   "id": "e8678700",
   "metadata": {},
   "outputs": [],
   "source": [
    "#Задание 2\n",
    "#Напишите программу, которая последовательно запрашивает у пользователя числа (по одному за раз) \n",
    "#и после первого нуля выводит сумму всех ранее введенных чисел."
   ]
  },
  {
   "cell_type": "code",
   "execution_count": 183,
   "id": "48490b10",
   "metadata": {},
   "outputs": [
    {
     "name": "stdout",
     "output_type": "stream",
     "text": [
      "1\n",
      "5\n",
      "6\n",
      "8\n",
      "0\n",
      "результат 20\n"
     ]
    }
   ],
   "source": [
    "X = int(input())\n",
    "Y = X\n",
    "while X != 0:\n",
    "    X = int(input())\n",
    "    Y = Y + X \n",
    "\n",
    "print ('результат', Y)"
   ]
  },
  {
   "cell_type": "code",
   "execution_count": null,
   "id": "6f766de9",
   "metadata": {},
   "outputs": [],
   "source": [
    "#Задание 3\n",
    "#Мы делаем MVP dating-сервиса, и у нас есть список парней и девушек.\n",
    "#Выдвигаем гипотезу: лучшие рекомендации мы получим, если просто отсортируем имена по алфавиту и \n",
    "#познакомим людей с одинаковыми индексами после сортировки! Но мы не будем никого знакомить, \n",
    "#если кто-то может остаться без пары:"
   ]
  },
  {
   "cell_type": "code",
   "execution_count": 160,
   "id": "61609a5a",
   "metadata": {},
   "outputs": [
    {
     "name": "stdout",
     "output_type": "stream",
     "text": [
      "Идеальные пары\n",
      "Alex и Emma\n",
      "Идеальные пары\n",
      "Arthur и Kate\n",
      "Идеальные пары\n",
      "John и Kira\n",
      "Идеальные пары\n",
      "Peter и Liza\n",
      "Идеальные пары\n",
      "Richard и Trisha\n"
     ]
    }
   ],
   "source": [
    "#boys = ['Peter', 'Alex', 'John', 'Arthur', 'Richard', 'Michael']\n",
    "boys = ['Peter', 'Alex', 'John', 'Arthur', 'Richard']\n",
    "girls = ['Kate', 'Liza', 'Kira', 'Emma', 'Trisha']\n",
    "\n",
    "if len(boys) == len(girls): \n",
    "    BoysAndGirls = zip(sorted(boys), sorted(girls))\n",
    "    for PeopleList in BoysAndGirls:\n",
    "        print('Идеальные пары')\n",
    "        print(PeopleList[0], 'и', PeopleList[1])\n",
    "else: print ('Внимание, кто-то может остаться без пары!')\n",
    "\n"
   ]
  },
  {
   "cell_type": "code",
   "execution_count": null,
   "id": "af5a722a",
   "metadata": {},
   "outputs": [],
   "source": [
    "#Задание 4\n",
    "#У нас есть список, содержащий информацию о среднедневной температуре в Фаренгейтах \n",
    "#за произвольный период по странам (структура данных в примере). \n",
    "#Необходимо написать код, который рассчитает среднюю температуру за период в Цельсиях(!) для каждой страны\n",
    "#1C = (1Ф-32)/1,8"
   ]
  },
  {
   "cell_type": "code",
   "execution_count": 233,
   "id": "c1351942",
   "metadata": {},
   "outputs": [
    {
     "name": "stdout",
     "output_type": "stream",
     "text": [
      "Thailand - 23.9 C\n",
      "Germany - 13.8 C\n",
      "Russia - 3.7 C\n",
      "Poland - 12.0 C\n"
     ]
    }
   ],
   "source": [
    "countries_temperature = [\n",
    "['Thailand', [75.2, 77, 78.8, 73.4, 68, 75.2, 77]],\n",
    "['Germany', [57.2, 55.4, 59, 59, 53.6]],\n",
    "['Russia', [35.6, 37.4, 39.2, 41, 42.8, 39.2, 35.6]],\n",
    "['Poland', [50, 50, 53.6, 57.2, 55.4, 55.4]]\n",
    "]\n",
    "\n",
    "for countries in countries_temperature:\n",
    "    print(countries[0],\n",
    "          '-', \n",
    "          round(\n",
    "               (sum(countries[1]) \n",
    "                / \n",
    "                len(countries[1]) - 32) / 1.8, \n",
    "              1),\n",
    "          'C')\n",
    "\n"
   ]
  }
 ],
 "metadata": {
  "kernelspec": {
   "display_name": "Python 3 (ipykernel)",
   "language": "python",
   "name": "python3"
  },
  "language_info": {
   "codemirror_mode": {
    "name": "ipython",
    "version": 3
   },
   "file_extension": ".py",
   "mimetype": "text/x-python",
   "name": "python",
   "nbconvert_exporter": "python",
   "pygments_lexer": "ipython3",
   "version": "3.9.7"
  }
 },
 "nbformat": 4,
 "nbformat_minor": 5
}
