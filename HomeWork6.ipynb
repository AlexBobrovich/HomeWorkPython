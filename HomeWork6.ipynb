{
 "cells": [
  {
   "cell_type": "code",
   "execution_count": null,
   "id": "450270b6",
   "metadata": {},
   "outputs": [],
   "source": [
    "#Задание 1\n",
    "#Печатные газеты использовали свой формат дат для каждого выпуска. \n",
    "#Для каждой газеты из списка напишите формат указанной даты для перевода в объект datetime:\n",
    "#The Moscow Times - Wednesday, October 2, 2002\n",
    "#The Guardian - Friday, 11.10.13\n",
    "#Daily News - Thursday, 18 August 1977"
   ]
  },
  {
   "cell_type": "code",
   "execution_count": 39,
   "id": "801baf47",
   "metadata": {},
   "outputs": [],
   "source": [
    "from datetime import datetime"
   ]
  },
  {
   "cell_type": "code",
   "execution_count": 101,
   "id": "ba067a19",
   "metadata": {},
   "outputs": [],
   "source": [
    "The_Moscow_Times = 'Wednesday, October 2, 2002'\n",
    "The_Guardian = 'Friday, 11.10.13'\n",
    "Daily_News = 'Thursday, 18 August 1977'"
   ]
  },
  {
   "cell_type": "code",
   "execution_count": 84,
   "id": "525a004e",
   "metadata": {},
   "outputs": [
    {
     "data": {
      "text/plain": [
       "datetime.datetime(2002, 10, 2, 0, 0)"
      ]
     },
     "execution_count": 84,
     "metadata": {},
     "output_type": "execute_result"
    }
   ],
   "source": [
    "The_Moscow_Times_datetime = datetime.strptime (The_Moscow_Times, '%A, %B %d, %Y')\n",
    "The_Moscow_Times_datetime"
   ]
  },
  {
   "cell_type": "code",
   "execution_count": 100,
   "id": "2a9fbe37",
   "metadata": {},
   "outputs": [
    {
     "data": {
      "text/plain": [
       "datetime.datetime(2013, 10, 11, 0, 0)"
      ]
     },
     "execution_count": 100,
     "metadata": {},
     "output_type": "execute_result"
    }
   ],
   "source": [
    "The_Guardian_datetime = datetime.strptime (The_Guardian, '%A, %d.%m')\n",
    "The_Guardian_datetime"
   ]
  },
  {
   "cell_type": "code",
   "execution_count": 105,
   "id": "b98e0d8e",
   "metadata": {},
   "outputs": [
    {
     "data": {
      "text/plain": [
       "datetime.datetime(1977, 8, 18, 0, 0)"
      ]
     },
     "execution_count": 105,
     "metadata": {},
     "output_type": "execute_result"
    }
   ],
   "source": [
    "Daily_News_datetime = datetime.strptime (Daily_News, '%A, %d %B %Y')\n",
    "Daily_News_datetime"
   ]
  },
  {
   "cell_type": "code",
   "execution_count": null,
   "id": "618e62ea",
   "metadata": {},
   "outputs": [],
   "source": [
    "#Задание 2\n",
    "#Дан поток дат в формате YYYY-MM-DD, в которых встречаются некорректные значения:\n",
    "#stream = [‘2018-04-02’, ‘2018-02-29’, ‘2018-19-02’]\n",
    "\n",
    "#Напишите функцию, которая проверяет эти даты на корректность. \n",
    "#Т. е. для каждой даты возвращает True (дата корректна) или False (некорректная дата)."
   ]
  },
  {
   "cell_type": "code",
   "execution_count": 28,
   "id": "4b149c33",
   "metadata": {},
   "outputs": [],
   "source": [
    "from datetime import datetime"
   ]
  },
  {
   "cell_type": "code",
   "execution_count": null,
   "id": "3c12d412",
   "metadata": {},
   "outputs": [],
   "source": [
    "stream = ['2018-04-02', '2018-02-29', '2018-19-02']\n",
    "\n",
    "def check_date(ldate):\n",
    "        for date in stream:\n",
    "            try:\n",
    "            vdate == datetime.strptime(date, '%Y-%m-%d')\n",
    "                print(True)\n",
    "            except:\n",
    "                print(False)"
   ]
  },
  {
   "cell_type": "code",
   "execution_count": null,
   "id": "e8665805",
   "metadata": {},
   "outputs": [],
   "source": [
    "#Задание 3\n",
    "#Напишите функцию date_range, которая возвращает список дат за период от start_date до end_date. \n",
    "#Даты должны вводиться в формате YYYY-MM-DD. В случае неверного формата или при start_date > end_date \n",
    "#должен возвращаться пустой список."
   ]
  },
  {
   "cell_type": "code",
   "execution_count": 37,
   "id": "a389de9f",
   "metadata": {},
   "outputs": [],
   "source": [
    "from datetime import timedelta"
   ]
  },
  {
   "cell_type": "code",
   "execution_count": null,
   "id": "dece138a",
   "metadata": {},
   "outputs": [],
   "source": [
    "start_date=input('Введите начальную дату в формате YYYY-MM-DD: ')\n",
    "end_date=input('Введите дату окончания в формате YYYY-MM-DD: ')\n",
    "\n",
    "def date_range(start, end):\n",
    "    start_datetime = datetime.strptime(start,'%Y-%m-%d')\n",
    "    end_datetime=datetime.strptime(end,'%Y-%m-%d')\n",
    "        days=[]\n",
    "        if start_datetime<end_datetime:\n",
    "            intermediate_datetime=start_datetime\n",
    "            while intermediate_datetime<=end_datetime:\n",
    "                intermediate_datetime=intermediate_datetime+timedelta(days=1)\n",
    "                print_datetime=datetime.strftime(intermediate_datetime,'%Y-%m-%d')\n",
    "                days.append(print_datetime)\n",
    "        return(days)\n",
    "    date_range(start_date, end_date)"
   ]
  }
 ],
 "metadata": {
  "kernelspec": {
   "display_name": "Python 3 (ipykernel)",
   "language": "python",
   "name": "python3"
  },
  "language_info": {
   "codemirror_mode": {
    "name": "ipython",
    "version": 3
   },
   "file_extension": ".py",
   "mimetype": "text/x-python",
   "name": "python",
   "nbconvert_exporter": "python",
   "pygments_lexer": "ipython3",
   "version": "3.9.7"
  }
 },
 "nbformat": 4,
 "nbformat_minor": 5
}
